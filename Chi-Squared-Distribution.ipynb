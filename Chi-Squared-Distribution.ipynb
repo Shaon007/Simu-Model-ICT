{
  "cells": [
    {
      "cell_type": "markdown",
      "metadata": {
        "id": "view-in-github",
        "colab_type": "text"
      },
      "source": [
        "<a href=\"https://colab.research.google.com/github/rahmanziaur/Simu-Model-ICT/blob/main/Chi-Squared-Distribution.ipynb\" target=\"_parent\"><img src=\"https://colab.research.google.com/assets/colab-badge.svg\" alt=\"Open In Colab\"/></a>"
      ]
    },
    {
      "cell_type": "markdown",
      "metadata": {
        "id": "c8yai941peIB"
      },
      "source": [
        "# The $\\chi^2$ Distribution"
      ]
    },
    {
      "cell_type": "markdown",
      "metadata": {
        "id": "hAEGV3qHpeIF"
      },
      "source": [
        "## $\\chi^2$ Test Statistic"
      ]
    },
    {
      "cell_type": "markdown",
      "metadata": {
        "id": "XLxzWv6TpeIG"
      },
      "source": [
        "If we make $n$ ranom samples (observations) from Gaussian (Normal) distributions with known means, $\\mu_i$, and known variances, $\\sigma_i^2$, it is seen that the total squared deviation,"
      ]
    },
    {
      "cell_type": "markdown",
      "metadata": {
        "id": "IP2FiqAJpeIH"
      },
      "source": [
        "$$\n",
        "\\chi^2 = \\sum_{i=1}^{n} \\left(\\frac{x_i - \\mu_i}{\\sigma_i}\\right)^2\\,,\n",
        "$$"
      ]
    },
    {
      "cell_type": "markdown",
      "metadata": {
        "id": "B8fXPlYwpeII"
      },
      "source": [
        "follows a $\\chi^2$ distribution with $n$ degrees of freedom."
      ]
    },
    {
      "cell_type": "markdown",
      "metadata": {
        "id": "iFFXeu-YpeIJ"
      },
      "source": [
        "## Probability Distribution Function"
      ]
    },
    {
      "cell_type": "markdown",
      "metadata": {
        "id": "2xSEqD_qpeIL"
      },
      "source": [
        "The $\\chi^2$ probability distribution function for $k$ degrees of freedom (the number of parameters that are allowed to vary) is given by"
      ]
    },
    {
      "cell_type": "markdown",
      "metadata": {
        "id": "HLkCrxgqpeIL"
      },
      "source": [
        "$$\n",
        "f\\left(\\chi^2\\,;k\\right) = \\frac{\\displaystyle 1}{\\displaystyle 2^{k/2} \\,\\Gamma\\left(k\\,/2\\right)}\\, \\chi^{k-2}\\,e^{-\\chi^2/2}\\,,\n",
        "$$"
      ]
    },
    {
      "cell_type": "markdown",
      "metadata": {
        "id": "YkRrVYUOpeIM"
      },
      "source": [
        "where if there are no constrained variables the number of degrees of freedom, $k$, is equal to the number of observations, $k=n$. The p.d.f. is often abbreviated in notation from $f\\left(\\chi^2\\,;k\\right)$ to $\\chi^2_k$."
      ]
    },
    {
      "cell_type": "markdown",
      "metadata": {
        "id": "GRKAeGnEpeIM"
      },
      "source": [
        "A reminder that for integer values of $k$, the Gamma function is $\\Gamma\\left(k\\right) = \\left(k-1\\right)!$, and that $\\Gamma\\left(x+1\\right) = x\\Gamma\\left(x\\right)$, and $\\Gamma\\left(1/2\\right) = \\sqrt{\\pi}$."
      ]
    },
    {
      "cell_type": "markdown",
      "metadata": {
        "id": "FAz21wV6peIN"
      },
      "source": [
        "## Mean"
      ]
    },
    {
      "cell_type": "markdown",
      "metadata": {
        "id": "tmj0pcAopeIN"
      },
      "source": [
        "Letting $\\chi^2=z$, and noting that the form of the Gamma function is"
      ]
    },
    {
      "cell_type": "markdown",
      "metadata": {
        "id": "RFgxgmPhpeIN"
      },
      "source": [
        "$$\n",
        "\\Gamma\\left(z\\right) = \\int\\limits_{0}^{\\infty} x^{z-1}\\,e^{-x}\\,dx,\n",
        "$$"
      ]
    },
    {
      "cell_type": "markdown",
      "metadata": {
        "id": "QEvcci95peIN"
      },
      "source": [
        "it is seen that the mean of the $\\chi^2$ distribution $f\\left(\\chi^2 ; k\\right)$ is"
      ]
    },
    {
      "cell_type": "markdown",
      "metadata": {
        "id": "WkdA45dmpeIN"
      },
      "source": [
        "$$\n",
        "\\begin{align}\n",
        "\\mu &= \\textrm{E}\\left[z\\right] = \\displaystyle\\int\\limits_{0}^{\\infty} z\\, \\frac{\\displaystyle 1}{\\displaystyle 2^{k/2} \\,\\Gamma\\left(k\\,/2\\right)}\\, z^{k/2-1}\\,e^{-z\\,/2}\\,dz \\\\\n",
        "    &= \\displaystyle \\frac{\\displaystyle 1}{\\displaystyle \\Gamma\\left(k\\,/2\\right)} \\int\\limits_{0}^{\\infty} \\left(\\frac{z}{2}\\right)^{k/2}\\,e^{-z\\,/2}\\,dz = \\displaystyle \\frac{\\displaystyle 1}{\\displaystyle \\Gamma\\left(k\\,/2\\right)} \\int\\limits_{0}^{\\infty} x^{k/2}\\,e^{-x}\\,2 \\,dx \\\\\n",
        "    &= \\displaystyle \\frac{\\displaystyle 2 \\,\\Gamma\\left(k\\,/2 + 1\\right)}{\\displaystyle \\Gamma\\left(k\\,/2\\right)} \\\\\n",
        "    &= \\displaystyle 2 \\frac{k}{2} \\frac{\\displaystyle \\Gamma\\left(k\\,/2\\right)}{\\displaystyle \\Gamma\\left(k\\,/2\\right)} \\\\\n",
        "    &= k.\n",
        "\\end{align}\n",
        "$$"
      ]
    },
    {
      "cell_type": "markdown",
      "metadata": {
        "id": "LrtucAE4peIO"
      },
      "source": [
        "## Variance"
      ]
    },
    {
      "cell_type": "markdown",
      "metadata": {
        "id": "qrLNIUgdpeIO"
      },
      "source": [
        "Likewise, the variance is"
      ]
    },
    {
      "cell_type": "markdown",
      "metadata": {
        "id": "PA1pMi3jpeIO"
      },
      "source": [
        "$$\n",
        "\\begin{align}\n",
        "\\textrm{Var}\\left[z\\right] &= \\textrm{E}\\left[\\left(z-\\textrm{E}\\left[z\\right]\\right)^2\\right] = \\displaystyle\\int\\limits_{0}^{\\infty} \\left(z - k\\right)^2\\, \\frac{\\displaystyle 1}{\\displaystyle 2^{k/2} \\,\\Gamma\\left(k\\,/2\\right)}\\, z^{k/2-1}\\,e^{-z\\,/2}\\,dz \\\\\n",
        "    &= \\displaystyle\\int\\limits_{0}^{\\infty} z^2\\, f\\left(z \\,; k\\right)\\,dz - 2k\\int\\limits_{0}^{\\infty} z\\,\\,f\\left(z \\,; k\\right)\\,dz + k^2\\int\\limits_{0}^{\\infty} f\\left(z \\,; k\\right)\\,dz \\\\\n",
        "    &= \\displaystyle\\int\\limits_{0}^{\\infty} z^2 \\frac{\\displaystyle 1}{\\displaystyle 2^{k/2} \\,\\Gamma\\left(k\\,/2\\right)}\\, z^{k/2-1}\\,e^{-z\\,/2}\\,dz - 2k^2 + k^2\\\\\n",
        "    &= \\displaystyle\\int\\limits_{0}^{\\infty} \\frac{\\displaystyle 1}{\\displaystyle 2^{k/2} \\,\\Gamma\\left(k\\,/2\\right)}\\, z^{k/2+1}\\,e^{-z\\,/2}\\,dz - k^2\\\\\n",
        "    &= \\frac{\\displaystyle 2}{\\displaystyle \\Gamma\\left(k\\,/2\\right)} \\displaystyle\\int\\limits_{0}^{\\infty} \\left(\\frac{z}{2}\\right)^{k/2+1}\\,e^{-z\\,/2}\\,dz - k^2 = \\frac{\\displaystyle 2}{\\displaystyle \\Gamma\\left(k\\,/2\\right)} \\displaystyle\\int\\limits_{0}^{\\infty} x^{k/2+1}\\,e^{-x}\\,2\\,dx - k^2 \\\\\n",
        "    &= \\displaystyle \\frac{\\displaystyle 4 \\,\\Gamma\\left(k\\,/2 + 2\\right)}{\\displaystyle \\Gamma\\left(k\\,/2\\right)} - k^2 \\\\\n",
        "    &= \\displaystyle 4 \\left(\\frac{k}{2} + 1\\right) \\frac{\\displaystyle \\Gamma\\left(k\\,/2 + 1\\right)}{\\displaystyle \\Gamma\\left(k\\,/2\\right)} - k^2 \\\\\n",
        "    &= \\displaystyle 4 \\left(\\frac{k}{2} + 1\\right) \\frac{k}{2} - k^2 \\\\\n",
        "    &= k^2 + 2k - k^2 \\\\\n",
        "    &= 2k,\n",
        "\\end{align}\n",
        "$$"
      ]
    },
    {
      "cell_type": "markdown",
      "metadata": {
        "id": "Qc3qZAmVpeIO"
      },
      "source": [
        "such that the standard deviation is"
      ]
    },
    {
      "cell_type": "markdown",
      "metadata": {
        "id": "Kn3Cx3fvpeIO"
      },
      "source": [
        "$$\n",
        "\\sigma = \\sqrt{2k}\\,.\n",
        "$$"
      ]
    },
    {
      "cell_type": "markdown",
      "metadata": {
        "id": "B9yIlVdvpeIO"
      },
      "source": [
        "Given this information we now plot the $\\chi^2$ p.d.f. with various numbers of degrees of freedom to visualize how the distribution's behaviour"
      ]
    },
    {
      "cell_type": "code",
      "execution_count": null,
      "metadata": {
        "id": "l3d2KocqpeIO"
      },
      "outputs": [],
      "source": [
        "import numpy as np\n",
        "import scipy.stats as stats\n",
        "\n",
        "import matplotlib.pyplot as plt"
      ]
    },
    {
      "cell_type": "code",
      "execution_count": null,
      "metadata": {
        "id": "MesnrIx0peIP"
      },
      "outputs": [],
      "source": [
        "# Plot the chi^2 distribution\n",
        "x = np.linspace(0.0, 10.0, num=1000)\n",
        "\n",
        "[plt.plot(x, stats.chi2.pdf(x, df=ndf), label=fr\"$k = ${ndf}\") for ndf in range(1, 7)]\n",
        "\n",
        "plt.ylim(-0.01, 0.5)\n",
        "\n",
        "plt.xlabel(r\"$x=\\chi^2$\")\n",
        "plt.ylabel(r\"$f\\left(x;k\\right)$\")\n",
        "plt.title(r\"$\\chi^2$ distribution for various degrees of freedom\")\n",
        "\n",
        "plt.legend(loc=\"best\")\n",
        "\n",
        "plt.show();"
      ]
    },
    {
      "cell_type": "markdown",
      "metadata": {
        "id": "nCz_yb9-peIP"
      },
      "source": [
        "## Cumulative Distribution Function"
      ]
    },
    {
      "cell_type": "markdown",
      "metadata": {
        "id": "qpqDv4XdpeIP"
      },
      "source": [
        "The cumulative distribution function (CDF) for the $\\chi^2$ distribution is (letting $z=\\chi^2$)"
      ]
    },
    {
      "cell_type": "markdown",
      "metadata": {
        "id": "4jSJwcd4peIQ"
      },
      "source": [
        "$$\n",
        "\\begin{split}\n",
        "F_{\\chi^2}\\left(x\\,; k\\right) &= \\int\\limits_{0}^{x} f_{\\chi^2}\\left(z\\,; k\\right) \\,dz \\\\\n",
        "    &= \\int\\limits_{0}^{x} \\frac{\\displaystyle 1}{\\displaystyle 2^{k/2} \\,\\Gamma\\left(k\\,/2\\right)}\\, z^{k/2-1}\\,e^{-z/2} \\,dz \\\\\n",
        "    &= \\int\\limits_{0}^{x} \\frac{\\displaystyle 1}{\\displaystyle 2 \\,\\Gamma\\left(k\\,/2\\right)}\\, \\left(\\frac{z}{2}\\right)^{k/2-1}\\,e^{-z/2} \\,dz = \\frac{1}{\\displaystyle 2 \\,\\Gamma\\left(k\\,/2\\right)}\\int\\limits_{0}^{x/2} t^{k/2-1}\\,e^{-t} \\,2\\,dt \\\\\n",
        "    &= \\frac{1}{\\displaystyle \\Gamma\\left(k\\,/2\\right)}\\int\\limits_{0}^{x/2} t^{k/2-1}\\,e^{-t} \\,dt\n",
        "\\end{split}\n",
        "$$"
      ]
    },
    {
      "cell_type": "markdown",
      "metadata": {
        "id": "fAqhWPqupeIQ"
      },
      "source": [
        "Noting the form of the [lower incomplete gamma function](https://en.wikipedia.org/wiki/Incomplete_gamma_function) is"
      ]
    },
    {
      "cell_type": "markdown",
      "metadata": {
        "id": "nivdN8kepeIQ"
      },
      "source": [
        "$$\n",
        "\\gamma\\left(s,x\\right) = \\int\\limits_{0}^{x} t^{s-1}\\,e^{-t} \\,dt\\,,\n",
        "$$"
      ]
    },
    {
      "cell_type": "markdown",
      "metadata": {
        "id": "sXkDWPgdpeIQ"
      },
      "source": [
        "and the form of the [regularized Gamma function](https://en.wikipedia.org/wiki/Incomplete_gamma_function#Regularized_Gamma_functions_and_Poisson_random_variables) is"
      ]
    },
    {
      "cell_type": "markdown",
      "metadata": {
        "id": "HTNocC_SpeIQ"
      },
      "source": [
        "$$\n",
        "P\\left(s,x\\right) = \\frac{\\gamma\\left(s,x\\right)}{\\Gamma\\left(s\\right)}\\,,\n",
        "$$"
      ]
    },
    {
      "cell_type": "markdown",
      "metadata": {
        "id": "Sd4iEA0mpeIQ"
      },
      "source": [
        "it is seen that"
      ]
    },
    {
      "cell_type": "markdown",
      "metadata": {
        "id": "LN-P1IjApeIQ"
      },
      "source": [
        "$$\n",
        "\\begin{split}\n",
        "F_{\\chi^2}\\left(x\\,; k\\right) &= \\frac{1}{\\displaystyle \\Gamma\\left(k\\,/2\\right)}\\int\\limits_{0}^{x/2} t^{k/2-1}\\,e^{-t} \\,dt \\\\\n",
        "    &= \\frac{\\displaystyle \\gamma\\left(\\frac{k}{2},\\frac{x}{2}\\right)}{\\displaystyle \\Gamma\\left(\\frac{k}{2}\\right)} \\\\\n",
        "    &= P\\left(\\frac{k}{2},\\frac{x}{2}\\right)\\,.\n",
        "\\end{split}\n",
        "$$"
      ]
    },
    {
      "cell_type": "markdown",
      "metadata": {
        "id": "WmNm0VJapeIQ"
      },
      "source": [
        "Thus, it is seen that the compliment to the CDF (the complementary cumulative distribution function (CCDF)),"
      ]
    },
    {
      "cell_type": "markdown",
      "metadata": {
        "id": "MXo_fiujpeIQ"
      },
      "source": [
        "$$\n",
        "\\bar{F}_{\\chi^2}\\left(x\\,; k\\right) = 1-F_{\\chi^2}\\left(x\\,; k\\right),\n",
        "$$"
      ]
    },
    {
      "cell_type": "markdown",
      "metadata": {
        "id": "gidi0X-zpeIR"
      },
      "source": [
        "represents a one-sided (one-tailed) $p$-value for observing a $\\chi^2$ given a model &mdash; that is, the probability to observe a $\\chi^2$ value greater than or equal to that which was observed."
      ]
    },
    {
      "cell_type": "code",
      "execution_count": null,
      "metadata": {
        "id": "_2YR2LEhpeIR"
      },
      "outputs": [],
      "source": [
        "def chi2_ccdf(x, df):\n",
        "    \"\"\"The complementary cumulative distribution function\n",
        "\n",
        "    Args:\n",
        "        x: the value of chi^2\n",
        "        df: the number of degrees of freedom\n",
        "\n",
        "    Returns:\n",
        "        1 - the cumulative distribution function\n",
        "    \"\"\"\n",
        "    return 1.0 - stats.chi2.cdf(x=x, df=df)"
      ]
    },
    {
      "cell_type": "code",
      "execution_count": null,
      "metadata": {
        "id": "GBPnhbh8peIR"
      },
      "outputs": [],
      "source": [
        "x = np.linspace(0.0, 10.0, num=1000)\n",
        "fig, axes = plt.subplots(nrows=1, ncols=2, figsize=(14, 4.5))\n",
        "\n",
        "for ndf in range(1, 7):\n",
        "    axes[0].plot(x, stats.chi2.cdf(x, df=ndf), label=fr\"$k = ${ndf}\")\n",
        "    axes[1].plot(x, chi2_ccdf(x, df=ndf), label=fr\"$k = ${ndf}\")\n",
        "\n",
        "axes[0].set_xlabel(r\"$x=\\chi^2$\")\n",
        "axes[0].set_ylabel(r\"$F\\left(x;k\\right)$\")\n",
        "axes[0].set_title(r\"$\\chi^2$ CDF for various degrees of freedom\")\n",
        "\n",
        "axes[0].legend(loc=\"best\")\n",
        "\n",
        "axes[1].set_xlabel(r\"$x=\\chi^2$\")\n",
        "axes[1].set_ylabel(r\"$\\bar{F}\\left(x;k\\right) = p$-value\")\n",
        "axes[1].set_title(r\"$\\chi^2$ CCDF ($p$-value) for various degrees of freedom\")\n",
        "\n",
        "axes[1].legend(loc=\"best\")\n",
        "\n",
        "plt.show();"
      ]
    },
    {
      "cell_type": "markdown",
      "metadata": {
        "id": "JXLKtZlxpeIR"
      },
      "source": [
        "## Binned $\\chi^2$ per Degree of Freedom"
      ]
    },
    {
      "cell_type": "markdown",
      "metadata": {
        "id": "RNZRRb2HpeIR"
      },
      "source": [
        "TODO"
      ]
    },
    {
      "cell_type": "markdown",
      "metadata": {
        "id": "OhL0D8URpeIW"
      },
      "source": [
        "## References"
      ]
    },
    {
      "cell_type": "markdown",
      "metadata": {
        "id": "nUrA03G3peIW"
      },
      "source": [
        "- \\[1\\] G. Cowan, _Statistical Data Analysis_, Oxford University Press, 1998\n",
        "- \\[2\\] G. Cowan, \"Goodness of fit and Wilk's theorem\", Notes, 2013"
      ]
    }
  ],
  "metadata": {
    "kernelspec": {
      "display_name": "Python 3",
      "language": "python",
      "name": "python3"
    },
    "language_info": {
      "codemirror_mode": {
        "name": "ipython",
        "version": 3
      },
      "file_extension": ".py",
      "mimetype": "text/x-python",
      "name": "python",
      "nbconvert_exporter": "python",
      "pygments_lexer": "ipython3",
      "version": "3.7.5"
    },
    "colab": {
      "provenance": [],
      "include_colab_link": true
    }
  },
  "nbformat": 4,
  "nbformat_minor": 0
}