{
  "nbformat": 4,
  "nbformat_minor": 0,
  "metadata": {
    "colab": {
      "provenance": [],
      "mount_file_id": "1yuLSGRAJHx-gtR4QvCR_F-Kmeer9Sjji",
      "authorship_tag": "ABX9TyOS+rsj2WYDrnfcym6J1APV",
      "include_colab_link": true
    },
    "kernelspec": {
      "name": "python3",
      "display_name": "Python 3"
    },
    "language_info": {
      "name": "python"
    }
  },
  "cells": [
    {
      "cell_type": "markdown",
      "metadata": {
        "id": "view-in-github",
        "colab_type": "text"
      },
      "source": [
        "<a href=\"https://colab.research.google.com/github/rahmanziaur/Simu-Model-ICT/blob/main/RandomPython_Test1.ipynb\" target=\"_parent\"><img src=\"https://colab.research.google.com/assets/colab-badge.svg\" alt=\"Open In Colab\"/></a>"
      ]
    },
    {
      "cell_type": "code",
      "execution_count": 1,
      "metadata": {
        "colab": {
          "base_uri": "https://localhost:8080/"
        },
        "id": "Mal5WS5yqxic",
        "outputId": "706d3efe-8446-43df-ff0d-7df23374567f"
      },
      "outputs": [
        {
          "output_type": "stream",
          "name": "stdout",
          "text": [
            "{}\n"
          ]
        }
      ],
      "source": [
        "# input data for dict\n",
        "keys = ['sl', 'RN']\n",
        "values = []\n",
        "\n",
        "# creating an empty dictionary\n",
        "output = {}\n",
        "\n",
        "# adding items to the dictionary using a loop\n",
        "for key, value in zip(keys, values):\n",
        "\toutput[key] = value\n",
        "\n",
        "# print output\n",
        "print(output)\n"
      ]
    },
    {
      "cell_type": "code",
      "source": [
        "import random, pandas as pd\n",
        "\n",
        "# input data for dict\n",
        "cols = ['Serial', 'Random Number']\n",
        "values = []\n",
        "\n",
        "#max length of the random number to generate\n",
        "max = 100\n",
        "\n",
        "#unique random number generation using loop\n",
        "for i in range(0, max):\n",
        "  values.append(random.uniform(0,1))\n",
        "\n",
        "# creating an empty dictionary\n",
        "my_dict = []\n",
        "\n",
        "#updating dictionary with data\n",
        "for sl in range(0, max):\n",
        "    data = {cols[0]: sl, cols[1]: values[sl]}\n",
        "    my_dict.append(data)\n",
        "\n",
        "#transforming dictionary into dataframe\n",
        "df = pd.DataFrame.from_dict(my_dict)\n",
        "\n",
        "#publishing dataframe as a .csv\n",
        "df.to_csv('my_500_random_number_between_0_1.csv', index=False)\n",
        "\n",
        "new_df = pd.read_csv('my_500_random_number_between_0_1.csv')\n",
        "\n",
        "new_df"
      ],
      "metadata": {
        "colab": {
          "base_uri": "https://localhost:8080/",
          "height": 423
        },
        "id": "Q4Jjmrvowi35",
        "outputId": "d03f6558-eb57-48fa-d73f-2d897ac75e2a"
      },
      "execution_count": 3,
      "outputs": [
        {
          "output_type": "execute_result",
          "data": {
            "text/plain": [
              "    Serial  Random Number\n",
              "0        0       0.067934\n",
              "1        1       0.922270\n",
              "2        2       0.557045\n",
              "3        3       0.419753\n",
              "4        4       0.592578\n",
              "..     ...            ...\n",
              "95      95       0.358169\n",
              "96      96       0.427104\n",
              "97      97       0.842478\n",
              "98      98       0.886689\n",
              "99      99       0.122335\n",
              "\n",
              "[100 rows x 2 columns]"
            ],
            "text/html": [
              "\n",
              "  <div id=\"df-b582c9f8-a49e-41a8-b814-9afedb91c01f\" class=\"colab-df-container\">\n",
              "    <div>\n",
              "<style scoped>\n",
              "    .dataframe tbody tr th:only-of-type {\n",
              "        vertical-align: middle;\n",
              "    }\n",
              "\n",
              "    .dataframe tbody tr th {\n",
              "        vertical-align: top;\n",
              "    }\n",
              "\n",
              "    .dataframe thead th {\n",
              "        text-align: right;\n",
              "    }\n",
              "</style>\n",
              "<table border=\"1\" class=\"dataframe\">\n",
              "  <thead>\n",
              "    <tr style=\"text-align: right;\">\n",
              "      <th></th>\n",
              "      <th>Serial</th>\n",
              "      <th>Random Number</th>\n",
              "    </tr>\n",
              "  </thead>\n",
              "  <tbody>\n",
              "    <tr>\n",
              "      <th>0</th>\n",
              "      <td>0</td>\n",
              "      <td>0.067934</td>\n",
              "    </tr>\n",
              "    <tr>\n",
              "      <th>1</th>\n",
              "      <td>1</td>\n",
              "      <td>0.922270</td>\n",
              "    </tr>\n",
              "    <tr>\n",
              "      <th>2</th>\n",
              "      <td>2</td>\n",
              "      <td>0.557045</td>\n",
              "    </tr>\n",
              "    <tr>\n",
              "      <th>3</th>\n",
              "      <td>3</td>\n",
              "      <td>0.419753</td>\n",
              "    </tr>\n",
              "    <tr>\n",
              "      <th>4</th>\n",
              "      <td>4</td>\n",
              "      <td>0.592578</td>\n",
              "    </tr>\n",
              "    <tr>\n",
              "      <th>...</th>\n",
              "      <td>...</td>\n",
              "      <td>...</td>\n",
              "    </tr>\n",
              "    <tr>\n",
              "      <th>95</th>\n",
              "      <td>95</td>\n",
              "      <td>0.358169</td>\n",
              "    </tr>\n",
              "    <tr>\n",
              "      <th>96</th>\n",
              "      <td>96</td>\n",
              "      <td>0.427104</td>\n",
              "    </tr>\n",
              "    <tr>\n",
              "      <th>97</th>\n",
              "      <td>97</td>\n",
              "      <td>0.842478</td>\n",
              "    </tr>\n",
              "    <tr>\n",
              "      <th>98</th>\n",
              "      <td>98</td>\n",
              "      <td>0.886689</td>\n",
              "    </tr>\n",
              "    <tr>\n",
              "      <th>99</th>\n",
              "      <td>99</td>\n",
              "      <td>0.122335</td>\n",
              "    </tr>\n",
              "  </tbody>\n",
              "</table>\n",
              "<p>100 rows × 2 columns</p>\n",
              "</div>\n",
              "    <div class=\"colab-df-buttons\">\n",
              "\n",
              "  <div class=\"colab-df-container\">\n",
              "    <button class=\"colab-df-convert\" onclick=\"convertToInteractive('df-b582c9f8-a49e-41a8-b814-9afedb91c01f')\"\n",
              "            title=\"Convert this dataframe to an interactive table.\"\n",
              "            style=\"display:none;\">\n",
              "\n",
              "  <svg xmlns=\"http://www.w3.org/2000/svg\" height=\"24px\" viewBox=\"0 -960 960 960\">\n",
              "    <path d=\"M120-120v-720h720v720H120Zm60-500h600v-160H180v160Zm220 220h160v-160H400v160Zm0 220h160v-160H400v160ZM180-400h160v-160H180v160Zm440 0h160v-160H620v160ZM180-180h160v-160H180v160Zm440 0h160v-160H620v160Z\"/>\n",
              "  </svg>\n",
              "    </button>\n",
              "\n",
              "  <style>\n",
              "    .colab-df-container {\n",
              "      display:flex;\n",
              "      gap: 12px;\n",
              "    }\n",
              "\n",
              "    .colab-df-convert {\n",
              "      background-color: #E8F0FE;\n",
              "      border: none;\n",
              "      border-radius: 50%;\n",
              "      cursor: pointer;\n",
              "      display: none;\n",
              "      fill: #1967D2;\n",
              "      height: 32px;\n",
              "      padding: 0 0 0 0;\n",
              "      width: 32px;\n",
              "    }\n",
              "\n",
              "    .colab-df-convert:hover {\n",
              "      background-color: #E2EBFA;\n",
              "      box-shadow: 0px 1px 2px rgba(60, 64, 67, 0.3), 0px 1px 3px 1px rgba(60, 64, 67, 0.15);\n",
              "      fill: #174EA6;\n",
              "    }\n",
              "\n",
              "    .colab-df-buttons div {\n",
              "      margin-bottom: 4px;\n",
              "    }\n",
              "\n",
              "    [theme=dark] .colab-df-convert {\n",
              "      background-color: #3B4455;\n",
              "      fill: #D2E3FC;\n",
              "    }\n",
              "\n",
              "    [theme=dark] .colab-df-convert:hover {\n",
              "      background-color: #434B5C;\n",
              "      box-shadow: 0px 1px 3px 1px rgba(0, 0, 0, 0.15);\n",
              "      filter: drop-shadow(0px 1px 2px rgba(0, 0, 0, 0.3));\n",
              "      fill: #FFFFFF;\n",
              "    }\n",
              "  </style>\n",
              "\n",
              "    <script>\n",
              "      const buttonEl =\n",
              "        document.querySelector('#df-b582c9f8-a49e-41a8-b814-9afedb91c01f button.colab-df-convert');\n",
              "      buttonEl.style.display =\n",
              "        google.colab.kernel.accessAllowed ? 'block' : 'none';\n",
              "\n",
              "      async function convertToInteractive(key) {\n",
              "        const element = document.querySelector('#df-b582c9f8-a49e-41a8-b814-9afedb91c01f');\n",
              "        const dataTable =\n",
              "          await google.colab.kernel.invokeFunction('convertToInteractive',\n",
              "                                                    [key], {});\n",
              "        if (!dataTable) return;\n",
              "\n",
              "        const docLinkHtml = 'Like what you see? Visit the ' +\n",
              "          '<a target=\"_blank\" href=https://colab.research.google.com/notebooks/data_table.ipynb>data table notebook</a>'\n",
              "          + ' to learn more about interactive tables.';\n",
              "        element.innerHTML = '';\n",
              "        dataTable['output_type'] = 'display_data';\n",
              "        await google.colab.output.renderOutput(dataTable, element);\n",
              "        const docLink = document.createElement('div');\n",
              "        docLink.innerHTML = docLinkHtml;\n",
              "        element.appendChild(docLink);\n",
              "      }\n",
              "    </script>\n",
              "  </div>\n",
              "\n",
              "\n",
              "<div id=\"df-67f9e29a-21a4-4490-8efb-0a09ab438325\">\n",
              "  <button class=\"colab-df-quickchart\" onclick=\"quickchart('df-67f9e29a-21a4-4490-8efb-0a09ab438325')\"\n",
              "            title=\"Suggest charts\"\n",
              "            style=\"display:none;\">\n",
              "\n",
              "<svg xmlns=\"http://www.w3.org/2000/svg\" height=\"24px\"viewBox=\"0 0 24 24\"\n",
              "     width=\"24px\">\n",
              "    <g>\n",
              "        <path d=\"M19 3H5c-1.1 0-2 .9-2 2v14c0 1.1.9 2 2 2h14c1.1 0 2-.9 2-2V5c0-1.1-.9-2-2-2zM9 17H7v-7h2v7zm4 0h-2V7h2v10zm4 0h-2v-4h2v4z\"/>\n",
              "    </g>\n",
              "</svg>\n",
              "  </button>\n",
              "\n",
              "<style>\n",
              "  .colab-df-quickchart {\n",
              "      --bg-color: #E8F0FE;\n",
              "      --fill-color: #1967D2;\n",
              "      --hover-bg-color: #E2EBFA;\n",
              "      --hover-fill-color: #174EA6;\n",
              "      --disabled-fill-color: #AAA;\n",
              "      --disabled-bg-color: #DDD;\n",
              "  }\n",
              "\n",
              "  [theme=dark] .colab-df-quickchart {\n",
              "      --bg-color: #3B4455;\n",
              "      --fill-color: #D2E3FC;\n",
              "      --hover-bg-color: #434B5C;\n",
              "      --hover-fill-color: #FFFFFF;\n",
              "      --disabled-bg-color: #3B4455;\n",
              "      --disabled-fill-color: #666;\n",
              "  }\n",
              "\n",
              "  .colab-df-quickchart {\n",
              "    background-color: var(--bg-color);\n",
              "    border: none;\n",
              "    border-radius: 50%;\n",
              "    cursor: pointer;\n",
              "    display: none;\n",
              "    fill: var(--fill-color);\n",
              "    height: 32px;\n",
              "    padding: 0;\n",
              "    width: 32px;\n",
              "  }\n",
              "\n",
              "  .colab-df-quickchart:hover {\n",
              "    background-color: var(--hover-bg-color);\n",
              "    box-shadow: 0 1px 2px rgba(60, 64, 67, 0.3), 0 1px 3px 1px rgba(60, 64, 67, 0.15);\n",
              "    fill: var(--button-hover-fill-color);\n",
              "  }\n",
              "\n",
              "  .colab-df-quickchart-complete:disabled,\n",
              "  .colab-df-quickchart-complete:disabled:hover {\n",
              "    background-color: var(--disabled-bg-color);\n",
              "    fill: var(--disabled-fill-color);\n",
              "    box-shadow: none;\n",
              "  }\n",
              "\n",
              "  .colab-df-spinner {\n",
              "    border: 2px solid var(--fill-color);\n",
              "    border-color: transparent;\n",
              "    border-bottom-color: var(--fill-color);\n",
              "    animation:\n",
              "      spin 1s steps(1) infinite;\n",
              "  }\n",
              "\n",
              "  @keyframes spin {\n",
              "    0% {\n",
              "      border-color: transparent;\n",
              "      border-bottom-color: var(--fill-color);\n",
              "      border-left-color: var(--fill-color);\n",
              "    }\n",
              "    20% {\n",
              "      border-color: transparent;\n",
              "      border-left-color: var(--fill-color);\n",
              "      border-top-color: var(--fill-color);\n",
              "    }\n",
              "    30% {\n",
              "      border-color: transparent;\n",
              "      border-left-color: var(--fill-color);\n",
              "      border-top-color: var(--fill-color);\n",
              "      border-right-color: var(--fill-color);\n",
              "    }\n",
              "    40% {\n",
              "      border-color: transparent;\n",
              "      border-right-color: var(--fill-color);\n",
              "      border-top-color: var(--fill-color);\n",
              "    }\n",
              "    60% {\n",
              "      border-color: transparent;\n",
              "      border-right-color: var(--fill-color);\n",
              "    }\n",
              "    80% {\n",
              "      border-color: transparent;\n",
              "      border-right-color: var(--fill-color);\n",
              "      border-bottom-color: var(--fill-color);\n",
              "    }\n",
              "    90% {\n",
              "      border-color: transparent;\n",
              "      border-bottom-color: var(--fill-color);\n",
              "    }\n",
              "  }\n",
              "</style>\n",
              "\n",
              "  <script>\n",
              "    async function quickchart(key) {\n",
              "      const quickchartButtonEl =\n",
              "        document.querySelector('#' + key + ' button');\n",
              "      quickchartButtonEl.disabled = true;  // To prevent multiple clicks.\n",
              "      quickchartButtonEl.classList.add('colab-df-spinner');\n",
              "      try {\n",
              "        const charts = await google.colab.kernel.invokeFunction(\n",
              "            'suggestCharts', [key], {});\n",
              "      } catch (error) {\n",
              "        console.error('Error during call to suggestCharts:', error);\n",
              "      }\n",
              "      quickchartButtonEl.classList.remove('colab-df-spinner');\n",
              "      quickchartButtonEl.classList.add('colab-df-quickchart-complete');\n",
              "    }\n",
              "    (() => {\n",
              "      let quickchartButtonEl =\n",
              "        document.querySelector('#df-67f9e29a-21a4-4490-8efb-0a09ab438325 button');\n",
              "      quickchartButtonEl.style.display =\n",
              "        google.colab.kernel.accessAllowed ? 'block' : 'none';\n",
              "    })();\n",
              "  </script>\n",
              "</div>\n",
              "    </div>\n",
              "  </div>\n"
            ],
            "application/vnd.google.colaboratory.intrinsic+json": {
              "type": "dataframe",
              "variable_name": "new_df",
              "summary": "{\n  \"name\": \"new_df\",\n  \"rows\": 100,\n  \"fields\": [\n    {\n      \"column\": \"Serial\",\n      \"properties\": {\n        \"dtype\": \"number\",\n        \"std\": 29,\n        \"min\": 0,\n        \"max\": 99,\n        \"num_unique_values\": 100,\n        \"samples\": [\n          83,\n          53,\n          70\n        ],\n        \"semantic_type\": \"\",\n        \"description\": \"\"\n      }\n    },\n    {\n      \"column\": \"Random Number\",\n      \"properties\": {\n        \"dtype\": \"number\",\n        \"std\": 0.2648238852551316,\n        \"min\": 0.0035063692300381,\n        \"max\": 0.9776305354282796,\n        \"num_unique_values\": 100,\n        \"samples\": [\n          0.3557726537601406,\n          0.8595954514774029,\n          0.456668317617639\n        ],\n        \"semantic_type\": \"\",\n        \"description\": \"\"\n      }\n    }\n  ]\n}"
            }
          },
          "metadata": {},
          "execution_count": 3
        }
      ]
    },
    {
      "cell_type": "code",
      "source": [
        "from random import randint\n",
        "num = input('Number of times to flip coin: ')\n",
        "flips = [randint(0,1) for r in range(int(num))]\n",
        "results = []\n",
        "for object in flips:\n",
        "        if object == 0:\n",
        "            results.append('Heads')\n",
        "        elif object == 1:\n",
        "            results.append('Tails')\n",
        "print(results)"
      ],
      "metadata": {
        "colab": {
          "base_uri": "https://localhost:8080/"
        },
        "id": "BdCEyRb6NUR9",
        "outputId": "3eb495dd-c941-49dd-bf6f-ce09283ded78"
      },
      "execution_count": 28,
      "outputs": [
        {
          "output_type": "stream",
          "name": "stdout",
          "text": [
            "Number of times to flip coin: 10\n",
            "['Tails', 'Tails', 'Tails', 'Tails', 'Heads', 'Heads', 'Heads', 'Heads', 'Heads', 'Heads']\n"
          ]
        }
      ]
    },
    {
      "cell_type": "code",
      "source": [
        "import random\n",
        "coin = ['H','T']\n",
        "\n",
        "toss = random.choice(coin)\n",
        "\n",
        "user_input = input(\"Hi! What you wanna go for - H/T:\")\n",
        "\n",
        "if(user_input == toss):\n",
        "  print(\"Congrats! You have won!!\")\n",
        "else:\n",
        "  print(\"Sorry! Lets try again. \")\n"
      ],
      "metadata": {
        "colab": {
          "base_uri": "https://localhost:8080/"
        },
        "id": "e8Sl9R8SO_t4",
        "outputId": "6f07cfdd-0900-4e9c-8344-a6edcbd01cb0"
      },
      "execution_count": 36,
      "outputs": [
        {
          "output_type": "stream",
          "name": "stdout",
          "text": [
            "Hi! What you wanna go for - H/T:H\n",
            "Congrats! You have won!!\n"
          ]
        }
      ]
    },
    {
      "cell_type": "code",
      "source": [
        "!pip curses"
      ],
      "metadata": {
        "colab": {
          "base_uri": "https://localhost:8080/"
        },
        "id": "K1DCRnsVgTen",
        "outputId": "fbbda545-b61a-40be-b894-5e2b475ef95f"
      },
      "execution_count": 39,
      "outputs": [
        {
          "output_type": "stream",
          "name": "stdout",
          "text": [
            "ERROR: unknown command \"curses\"\n"
          ]
        }
      ]
    },
    {
      "source": [
        "from matplotlib import pyplot as plt\n",
        "new_df.plot(kind='scatter', x='Serial', y='Random Number', s=32, alpha=.8)\n",
        "plt.gca().spines[['top', 'right',]].set_visible(False)"
      ],
      "cell_type": "code",
      "metadata": {
        "colab": {
          "base_uri": "https://localhost:8080/",
          "height": 449
        },
        "id": "SQwt9yPQ-zqV",
        "outputId": "a9bbfc34-4677-4bd5-b184-9ecacba294ca"
      },
      "execution_count": 23,
      "outputs": [
        {
          "output_type": "display_data",
          "data": {
            "text/plain": [
              "<Figure size 640x480 with 1 Axes>"
            ],
            "image/png": "[encoded data removed]"
          },
          "metadata": {}
        }
      ]
    },
    {
      "cell_type": "markdown",
      "source": [
        "**Write a python code to run on Google Colab to calculate X_(n+1) = (aX_n + c) (modulo m) where each parameters will be taken as user inpute**"
      ],
      "metadata": {
        "id": "eZEe0xTzmsNf"
      }
    },
    {
      "cell_type": "code",
      "source": [
        "def linear_congruential_generator(a, c, m, X_0, n):\n",
        "    X = X_0\n",
        "    sequence = [X]\n",
        "    for _ in range(n):\n",
        "        X = (a * X + c) % m\n",
        "        sequence.append(X)\n",
        "    return sequence\n",
        "\n",
        "# Take user inputs for parameters\n",
        "a = int(input(\"Enter the value of 'a': \"))\n",
        "c = int(input(\"Enter the value of 'c': \"))\n",
        "m = int(input(\"Enter the value of 'm': \"))\n",
        "X_0 = int(input(\"Enter the initial value 'X_0': \"))\n",
        "n = int(input(\"Enter the number of terms to generate: \"))\n",
        "\n",
        "# Generate sequence\n",
        "sequence = linear_congruential_generator(a, c, m, X_0, n)\n",
        "\n",
        "print(\"Generated sequence:\")\n",
        "print(sequence)\n"
      ],
      "metadata": {
        "colab": {
          "base_uri": "https://localhost:8080/"
        },
        "id": "wFjN1VkNlZn3",
        "outputId": "7ae8742e-e0c8-4529-f167-1d68fdfafd73"
      },
      "execution_count": 49,
      "outputs": [
        {
          "output_type": "stream",
          "name": "stdout",
          "text": [
            "Enter the value of 'a': 5\n",
            "Enter the value of 'c': 7\n",
            "Enter the value of 'm': 8\n",
            "Enter the initial value 'X_0': 4\n",
            "Enter the number of terms to generate: 5\n",
            "Generated sequence:\n",
            "[4, 3, 6, 5, 0, 7]\n"
          ]
        }
      ]
    },
    {
      "cell_type": "markdown",
      "source": [
        "**Write a python to run on Google Colab which generates a random number between 0 and 1 using the mixed congruential method.**"
      ],
      "metadata": {
        "id": "7UlpoW5-olaY"
      }
    },
    {
      "cell_type": "code",
      "source": [
        "def mixed_congruential_generator(n, X_0):\n",
        "    a = 22695477\n",
        "    c = 1\n",
        "    m = 2**32\n",
        "    sequence = []\n",
        "    X = X_0\n",
        "    for _ in range(n):\n",
        "        X = (a * X + c) % m\n",
        "        random_number = X / m\n",
        "        sequence.append(random_number)\n",
        "    return sequence\n",
        "\n",
        "# Take user input for the number of random numbers to generate\n",
        "n = int(input(\"Enter the number of random numbers to generate: \"))\n",
        "\n",
        "# Take user input for the seed value\n",
        "X_0 = int(input(\"Enter the seed value 'X_0': \"))\n",
        "\n",
        "# Generate random numbers\n",
        "random_numbers = mixed_congruential_generator(n, X_0)\n",
        "\n",
        "print(\"Generated random numbers between 0 and 1:\")\n",
        "print(random_numbers)\n"
      ],
      "metadata": {
        "colab": {
          "base_uri": "https://localhost:8080/"
        },
        "id": "H4AcihyqnnzY",
        "outputId": "58f75527-bdc0-48c6-ce52-171acb8a5a3d"
      },
      "execution_count": 50,
      "outputs": [
        {
          "output_type": "stream",
          "name": "stdout",
          "text": [
            "Enter the number of random numbers to generate: 10\n",
            "Enter the seed value 'X_0': 4\n",
            "Generated random numbers between 0 and 1:\n",
            "[0.02113681030459702, 0.992121344897896, 0.16433926741592586, 0.06383499503135681, 0.6615292730275542, 0.4008235759101808, 0.24812726280651987, 0.5860983273014426, 0.1070083633530885, 0.8492876631207764]\n"
          ]
        }
      ]
    },
    {
      "cell_type": "markdown",
      "source": [
        "**Write a Python program to run on Google Colab using Quadratic congruential method to generate 15 random integer numbers between 1 and 50**"
      ],
      "metadata": {
        "id": "G8PSfm7JpGm3"
      }
    },
    {
      "cell_type": "code",
      "source": [
        "def quadratic_congruential_generator(n, X_0):\n",
        "    a = 1664525\n",
        "    c = 1013904223\n",
        "    m = 2**32\n",
        "    sequence = []\n",
        "    X = X_0\n",
        "    for _ in range(n):\n",
        "        X = (a * X**2 + c) % m\n",
        "        random_number = 1 + (X % 50)  # Scale to range [1, 50]\n",
        "        sequence.append(random_number)\n",
        "    return sequence\n",
        "\n",
        "# Take user input for the seed value\n",
        "X_0 = int(input(\"Enter the seed value 'X_0': \"))\n",
        "\n",
        "# Generate random integer numbers\n",
        "random_numbers = quadratic_congruential_generator(15, X_0)\n",
        "\n",
        "print(\"Generated random integer numbers between 1 and 50:\")\n",
        "print(random_numbers)\n"
      ],
      "metadata": {
        "colab": {
          "base_uri": "https://localhost:8080/"
        },
        "id": "rd1VmaNfoZ14",
        "outputId": "1c651401-1782-4032-b2be-dca1ffdb586b"
      },
      "execution_count": 51,
      "outputs": [
        {
          "output_type": "stream",
          "name": "stdout",
          "text": [
            "Enter the seed value 'X_0': 4\n",
            "Generated random integer numbers between 1 and 50:\n",
            "[24, 35, 20, 45, 14, 1, 44, 29, 20, 43, 22, 49, 24, 15, 26]\n"
          ]
        }
      ]
    },
    {
      "cell_type": "markdown",
      "source": [
        "**Write a python code to run Google Colab to approximate the value of pie using a Monte Carlo method.**"
      ],
      "metadata": {
        "id": "P04dF70SuDmC"
      }
    },
    {
      "cell_type": "code",
      "source": [
        "import random\n",
        "\n",
        "def monte_carlo_pi(num_points):\n",
        "    points_inside_circle = 0\n",
        "\n",
        "    for _ in range(num_points):\n",
        "        x = random.uniform(0, 1)\n",
        "\n",
        "        y = random.uniform(0, 1)\n",
        "\n",
        "\n",
        "        distance = x**2 + y**2\n",
        "\n",
        "        if distance <= 1:\n",
        "            points_inside_circle += 1\n",
        "\n",
        "    pi_approx = 4 * points_inside_circle / num_points\n",
        "    return pi_approx\n",
        "\n",
        "# Number of points for Monte Carlo simulation\n",
        "num_points = 100000\n",
        "\n",
        "# Approximate π using Monte Carlo method\n",
        "approx_pi = monte_carlo_pi(num_points)\n",
        "\n",
        "print(\"Approximation of π using Monte Carlo method:\", approx_pi)\n"
      ],
      "metadata": {
        "colab": {
          "base_uri": "https://localhost:8080/"
        },
        "id": "VGPEAsYLs38c",
        "outputId": "4fb8c1a1-ec3c-4a43-b892-65b751dbad73"
      },
      "execution_count": 58,
      "outputs": [
        {
          "output_type": "stream",
          "name": "stdout",
          "text": [
            "Approximation of π using Monte Carlo method: 3.1366\n"
          ]
        }
      ]
    },
    {
      "cell_type": "code",
      "source": [
        "import numpy as np\n",
        "import matplotlib.pyplot as plt\n",
        "\n",
        "# Function to plot parabola\n",
        "def plot_parabola(a, b, c, label):\n",
        "    x = np.linspace(-10, 10, 400)\n",
        "    y = a * x**2 + b * x + c\n",
        "    plt.plot(x, y, label=label)\n",
        "\n",
        "# Plotting the parabolas\n",
        "plt.figure(figsize=(10, 6))\n",
        "\n",
        "plot_parabola(1, 0, 0, 'y = x^2')  # Standard parabola\n",
        "plot_parabola(-1, 0, 0, 'y = -x^2')  # Upside-down parabola\n",
        "plot_parabola(1, 0, -5, 'y = x^2 - 5')  # Parabola shifted down\n",
        "plot_parabola(1, -4, 4, 'y = x^2 - 4x + 4')  # Parabola shifted right\n",
        "\n",
        "plt.xlabel('x')\n",
        "plt.ylabel('y')\n",
        "plt.title('Four Standard Equations of a Parabola')\n",
        "plt.legend()\n",
        "plt.grid(True)\n",
        "plt.axhline(0, color='black',linewidth=0.5)\n",
        "plt.axvline(0, color='black',linewidth=0.5)\n",
        "plt.show()\n"
      ],
      "metadata": {
        "colab": {
          "base_uri": "https://localhost:8080/",
          "height": 564
        },
        "id": "7FLBk_ypo-tR",
        "outputId": "955b7bb5-5cd8-47d4-e802-c2536104f899"
      },
      "execution_count": 59,
      "outputs": [
        {
          "output_type": "display_data",
          "data": {
            "text/plain": [
              "<Figure size 1000x600 with 1 Axes>"
            ],
            "image/png": "[encoded data removed]"
          },
          "metadata": {}
        }
      ]
    },
    {
      "cell_type": "markdown",
      "source": [
        "**Write a python code to generate four plots for four standard equations of a parabola (y^2 = -4ax, X^2 = 4ay, etc) with proper label**"
      ],
      "metadata": {
        "id": "pW1bAStI1n5l"
      }
    },
    {
      "cell_type": "code",
      "source": [
        "import numpy as np\n",
        "import matplotlib.pyplot as plt\n",
        "\n",
        "# Function to plot parabola\n",
        "def plot_parabola(eq_type, a):\n",
        "    x = np.linspace(-10, 10, 400)\n",
        "    if eq_type == 'y^2 = -4ax':\n",
        "        y = np.sqrt(-4*a*x)\n",
        "        plt.plot(x, y, label=eq_type)\n",
        "        plt.plot(x, -y, label=eq_type)\n",
        "    elif eq_type == 'x^2 = 4ay':\n",
        "        y = np.sqrt(4*a*x)\n",
        "        plt.plot(x, y, label=eq_type)\n",
        "        plt.plot(x, -y, label=eq_type)\n",
        "    elif eq_type == 'x^2 = -4ay':\n",
        "        y = np.sqrt(-4*a*x)\n",
        "        plt.plot(x, y, label=eq_type)\n",
        "        plt.plot(x, -y, label=eq_type)\n",
        "    elif eq_type == 'y^2 = 4ax':\n",
        "        y = np.sqrt(4*a*x)\n",
        "        plt.plot(x, y, label=eq_type)\n",
        "        plt.plot(x, -y, label=eq_type)\n",
        "\n",
        "# Plotting the parabolas\n",
        "plt.figure(figsize=(10, 6))\n",
        "\n",
        "plot_parabola('y^2 = -4ax', 1)  # Parabola of the form y^2 = -4ax\n",
        "plot_parabola('x^2 = 4ay', 1)   # Parabola of the form x^2 = 4ay\n",
        "plot_parabola('x^2 = -4ay', 1)  # Parabola of the form x^2 = -4ay\n",
        "plot_parabola('y^2 = 4ax', 1)   # Parabola of the form y^2 = 4ax\n",
        "\n",
        "plt.xlabel('x')\n",
        "plt.ylabel('y')\n",
        "plt.title"
      ],
      "metadata": {
        "colab": {
          "base_uri": "https://localhost:8080/",
          "height": 850
        },
        "id": "RUAwu12TxzCN",
        "outputId": "5855e8d7-c246-46fe-e17c-83512b0dd1f8"
      },
      "execution_count": 61,
      "outputs": [
        {
          "output_type": "stream",
          "name": "stderr",
          "text": [
            "<ipython-input-61-4de7a83c9959>:8: RuntimeWarning: invalid value encountered in sqrt\n",
            "  y = np.sqrt(-4*a*x)\n",
            "<ipython-input-61-4de7a83c9959>:12: RuntimeWarning: invalid value encountered in sqrt\n",
            "  y = np.sqrt(4*a*x)\n",
            "<ipython-input-61-4de7a83c9959>:16: RuntimeWarning: invalid value encountered in sqrt\n",
            "  y = np.sqrt(-4*a*x)\n",
            "<ipython-input-61-4de7a83c9959>:20: RuntimeWarning: invalid value encountered in sqrt\n",
            "  y = np.sqrt(4*a*x)\n"
          ]
        },
        {
          "output_type": "execute_result",
          "data": {
            "text/plain": [
              "<function matplotlib.pyplot.title(label, fontdict=None, loc=None, pad=None, *, y=None, **kwargs)>"
            ],
            "text/html": [
              "<div style=\"max-width:800px; border: 1px solid var(--colab-border-color);\"><style>\n",
              "      pre.function-repr-contents {\n",
              "        overflow-x: auto;\n",
              "        padding: 8px 12px;\n",
              "        max-height: 500px;\n",
              "      }\n",
              "\n",
              "      pre.function-repr-contents.function-repr-contents-collapsed {\n",
              "        cursor: pointer;\n",
              "        max-height: 100px;\n",
              "      }\n",
              "    </style>\n",
              "    <pre style=\"white-space: initial; background:\n",
              "         var(--colab-secondary-surface-color); padding: 8px 12px;\n",
              "         border-bottom: 1px solid var(--colab-border-color);\"><b>matplotlib.pyplot.title</b><br/>def title(label, fontdict=None, loc=None, pad=None, *, y=None, **kwargs)</pre><pre class=\"function-repr-contents function-repr-contents-collapsed\" style=\"\"><a class=\"filepath\" style=\"display:none\" href=\"#\">/usr/local/lib/python3.10/dist-packages/matplotlib/pyplot.py</a>Set a title for the Axes.\n",
              "\n",
              "Set one of the three available Axes titles. The available titles\n",
              "are positioned above the Axes in the center, flush with the left\n",
              "edge, and flush with the right edge.\n",
              "\n",
              "Parameters\n",
              "----------\n",
              "label : str\n",
              "    Text to use for the title\n",
              "\n",
              "fontdict : dict\n",
              "    A dictionary controlling the appearance of the title text,\n",
              "    the default *fontdict* is::\n",
              "\n",
              "       {&#x27;fontsize&#x27;: rcParams[&#x27;axes.titlesize&#x27;],\n",
              "        &#x27;fontweight&#x27;: rcParams[&#x27;axes.titleweight&#x27;],\n",
              "        &#x27;color&#x27;: rcParams[&#x27;axes.titlecolor&#x27;],\n",
              "        &#x27;verticalalignment&#x27;: &#x27;baseline&#x27;,\n",
              "        &#x27;horizontalalignment&#x27;: loc}\n",
              "\n",
              "loc : {&#x27;center&#x27;, &#x27;left&#x27;, &#x27;right&#x27;}, default: :rc:`axes.titlelocation`\n",
              "    Which title to set.\n",
              "\n",
              "y : float, default: :rc:`axes.titley`\n",
              "    Vertical Axes location for the title (1.0 is the top).  If\n",
              "    None (the default) and :rc:`axes.titley` is also None, y is\n",
              "    determined automatically to avoid decorators on the Axes.\n",
              "\n",
              "pad : float, default: :rc:`axes.titlepad`\n",
              "    The offset of the title from the top of the Axes, in points.\n",
              "\n",
              "Returns\n",
              "-------\n",
              "`.Text`\n",
              "    The matplotlib text instance representing the title\n",
              "\n",
              "Other Parameters\n",
              "----------------\n",
              "**kwargs : `.Text` properties\n",
              "    Other keyword arguments are text properties, see `.Text` for a list\n",
              "    of valid text properties.</pre>\n",
              "      <script>\n",
              "      if (google.colab.kernel.accessAllowed && google.colab.files && google.colab.files.view) {\n",
              "        for (const element of document.querySelectorAll('.filepath')) {\n",
              "          element.style.display = 'block'\n",
              "          element.onclick = (event) => {\n",
              "            event.preventDefault();\n",
              "            event.stopPropagation();\n",
              "            google.colab.files.view(element.textContent, 3082);\n",
              "          };\n",
              "        }\n",
              "      }\n",
              "      for (const element of document.querySelectorAll('.function-repr-contents')) {\n",
              "        element.onclick = (event) => {\n",
              "          event.preventDefault();\n",
              "          event.stopPropagation();\n",
              "          element.classList.toggle('function-repr-contents-collapsed');\n",
              "        };\n",
              "      }\n",
              "      </script>\n",
              "      </div>"
            ]
          },
          "metadata": {},
          "execution_count": 61
        },
        {
          "output_type": "display_data",
          "data": {
            "text/plain": [
              "<Figure size 1000x600 with 1 Axes>"
            ],
            "image/png": "[encoded data removed]"
          },
          "metadata": {}
        }
      ]
    },
    {
      "cell_type": "markdown",
      "source": [
        "**Write a python program to run on Google Colab that uses Monte Carlo to simulate the probability of getting a pair of 6's within twenty-four rolls of a pair of dice.**"
      ],
      "metadata": {
        "id": "yXHqRnVe3dtX"
      }
    },
    {
      "cell_type": "code",
      "source": [
        "import random\n",
        "\n",
        "def simulate_pair_of_sixes(num_simulations):\n",
        "    count_pairs_of_sixes = 0\n",
        "\n",
        "    for _ in range(num_simulations):\n",
        "        has_pair_of_sixes = False\n",
        "\n",
        "        for _ in range(24):\n",
        "            roll1 = random.randint(1, 6)\n",
        "            roll2 = random.randint(1, 6)\n",
        "\n",
        "            if roll1 == 6 and roll2 == 6:\n",
        "                has_pair_of_sixes = True\n",
        "                break\n",
        "\n",
        "        if has_pair_of_sixes:\n",
        "            count_pairs_of_sixes += 1\n",
        "\n",
        "    probability = count_pairs_of_sixes / num_simulations\n",
        "    return probability\n",
        "\n",
        "# Number of Monte Carlo simulations\n",
        "num_simulations = 100000\n",
        "\n",
        "# Simulate the probability of getting a pair of 6's within twenty-four rolls\n",
        "probability = simulate_pair_of_sixes(num_simulations)\n",
        "\n",
        "print(\"Estimated probability of getting a pair of 6's within twenty-four rolls:\", probability)"
      ],
      "metadata": {
        "colab": {
          "base_uri": "https://localhost:8080/"
        },
        "id": "K_gI_NLR1iN-",
        "outputId": "0982edae-0764-41ab-f462-389f529da8e6"
      },
      "execution_count": 67,
      "outputs": [
        {
          "output_type": "stream",
          "name": "stdout",
          "text": [
            "Estimated probability of getting a pair of 6's within twenty-four rolls: 0.49377\n"
          ]
        }
      ]
    },
    {
      "cell_type": "markdown",
      "source": [
        "**Long before computers were invented, the French mathematicians Buffon (1707-1788) and Laplace (1749-1827) proposed using a stochastic simulation to estimate the value of π. Think about inscribing a circle in a square with sides of length 2, so that the radius r of the circle is of length 1.** pi = 4 x A_c/A_s. Using needle. Ref. https://brilliant.org/wiki/monte-carlo/#citation-1"
      ],
      "metadata": {
        "id": "TMg9BNDk8tqg"
      }
    },
    {
      "cell_type": "code",
      "source": [
        "from random import random\n",
        "from math import pow, sqrt\n",
        "\n",
        "trial=1000000\n",
        "hits = 0\n",
        "throws = 0\n",
        "for i in range (1, trial):\n",
        "    throws += 1\n",
        "    x = random()\n",
        "    y = random()\n",
        "    dist = sqrt(pow(x, 2) + pow(y, 2))\n",
        "    if dist <= 1.0:\n",
        "        hits = hits + 1.0\n",
        "\n",
        "# hits / throws = 1/4 Pi\n",
        "pi = 4 * (hits / throws)\n",
        "\n",
        "print(\"pi is= \",pi)"
      ],
      "metadata": {
        "colab": {
          "base_uri": "https://localhost:8080/"
        },
        "id": "aBSBYaLS3iz1",
        "outputId": "2b7b7fcd-2163-4619-ded1-db484e645b22"
      },
      "execution_count": 68,
      "outputs": [
        {
          "output_type": "stream",
          "name": "stdout",
          "text": [
            "pi is=  3.144107144107144\n"
          ]
        }
      ]
    },
    {
      "cell_type": "code",
      "source": [
        "import numpy as np\n",
        "import matplotlib.pyplot as plt\n",
        "\n",
        "# Define the range of x values\n",
        "x = np.linspace(0, 5, 100)\n",
        "\n",
        "# Calculate the corresponding y values using the function e^-x\n",
        "y = np.exp(-x)\n",
        "\n",
        "# Plot the function\n",
        "plt.figure(figsize=(8, 6))\n",
        "plt.plot(x, y, label='$e^{-x}$', color='blue')\n",
        "plt.xlabel('x')\n",
        "plt.ylabel('$e^{-x}$')\n",
        "plt.title('Plot of $e^{-x}$')\n",
        "plt.legend()\n",
        "plt.grid(True)\n",
        "plt.show()\n"
      ],
      "metadata": {
        "colab": {
          "base_uri": "https://localhost:8080/",
          "height": 564
        },
        "id": "yu1RhA5OFqR4",
        "outputId": "ebf852df-f1aa-418e-990d-df29791f55c0"
      },
      "execution_count": 71,
      "outputs": [
        {
          "output_type": "display_data",
          "data": {
            "text/plain": [
              "<Figure size 800x600 with 1 Axes>"
            ],
            "image/png": "[encoded data removed]"
          },
          "metadata": {}
        }
      ]
    },
    {
      "cell_type": "code",
      "source": [
        "import numpy as np\n",
        "from scipy.stats import norm\n",
        "\n",
        "# Define the mean and standard deviation\n",
        "mean = 850\n",
        "std_dev = 100\n",
        "\n",
        "# Define the range of z-values (standard deviations from the mean)\n",
        "z_values = np.linspace(-3, 3, 55)  # Example: from -3 to 3 with step size 0.5\n",
        "\n",
        "# Calculate the corresponding cumulative probabilities using the cumulative distribution function (CDF)\n",
        "cumulative_probabilities = norm.cdf(z_values)\n",
        "\n",
        "# Print the table\n",
        "print(\"Z-value\\t\\tCumulative Probability\")\n",
        "print(\"-----------------------------------\")\n",
        "for z, prob in zip(z_values, cumulative_probabilities):\n",
        "    print(f\"{z:.2f}\\t\\t{prob:.4f}\")\n"
      ],
      "metadata": {
        "colab": {
          "base_uri": "https://localhost:8080/"
        },
        "id": "mavsiWqmIIAc",
        "outputId": "1f6d2710-3c46-4871-9693-7372bef6e904"
      },
      "execution_count": 79,
      "outputs": [
        {
          "output_type": "stream",
          "name": "stdout",
          "text": [
            "Z-value\t\tCumulative Probability\n",
            "-----------------------------------\n",
            "-3.00\t\t0.0013\n",
            "-2.89\t\t0.0019\n",
            "-2.78\t\t0.0027\n",
            "-2.67\t\t0.0038\n",
            "-2.56\t\t0.0053\n",
            "-2.44\t\t0.0073\n",
            "-2.33\t\t0.0098\n",
            "-2.22\t\t0.0131\n",
            "-2.11\t\t0.0174\n",
            "-2.00\t\t0.0228\n",
            "-1.89\t\t0.0295\n",
            "-1.78\t\t0.0377\n",
            "-1.67\t\t0.0478\n",
            "-1.56\t\t0.0599\n",
            "-1.44\t\t0.0743\n",
            "-1.33\t\t0.0912\n",
            "-1.22\t\t0.1108\n",
            "-1.11\t\t0.1333\n",
            "-1.00\t\t0.1587\n",
            "-0.89\t\t0.1870\n",
            "-0.78\t\t0.2184\n",
            "-0.67\t\t0.2525\n",
            "-0.56\t\t0.2893\n",
            "-0.44\t\t0.3284\n",
            "-0.33\t\t0.3694\n",
            "-0.22\t\t0.4121\n",
            "-0.11\t\t0.4558\n",
            "0.00\t\t0.5000\n",
            "0.11\t\t0.5442\n",
            "0.22\t\t0.5879\n",
            "0.33\t\t0.6306\n",
            "0.44\t\t0.6716\n",
            "0.56\t\t0.7107\n",
            "0.67\t\t0.7475\n",
            "0.78\t\t0.7816\n",
            "0.89\t\t0.8130\n",
            "1.00\t\t0.8413\n",
            "1.11\t\t0.8667\n",
            "1.22\t\t0.8892\n",
            "1.33\t\t0.9088\n",
            "1.44\t\t0.9257\n",
            "1.56\t\t0.9401\n",
            "1.67\t\t0.9522\n",
            "1.78\t\t0.9623\n",
            "1.89\t\t0.9705\n",
            "2.00\t\t0.9772\n",
            "2.11\t\t0.9826\n",
            "2.22\t\t0.9869\n",
            "2.33\t\t0.9902\n",
            "2.44\t\t0.9927\n",
            "2.56\t\t0.9947\n",
            "2.67\t\t0.9962\n",
            "2.78\t\t0.9973\n",
            "2.89\t\t0.9981\n",
            "3.00\t\t0.9987\n"
          ]
        }
      ]
    },
    {
      "cell_type": "markdown",
      "source": [
        "**Given the following: mean=279.76, median=279.06, mode=277.5 and SD=15.6, find the first and second coefficients of skewness**"
      ],
      "metadata": {
        "id": "YvAAbqYQMOr-"
      }
    },
    {
      "cell_type": "code",
      "source": [
        "mean = 279.76\n",
        "median = 279.06\n",
        "mode = 277.5\n",
        "std_dev = 15.6\n",
        "\n",
        "# Calculate first coefficient of skewness (Pearson's skewness coefficient)\n",
        "skewness_1 = 3 * (mean - median) / std_dev\n",
        "\n",
        "# Calculate second coefficient of skewness (Fisher's skewness coefficient)\n",
        "skewness_2 = (mean - mode) / std_dev\n",
        "\n",
        "print(\"First coefficient of skewness (Pearson's skewness coefficient):\", skewness_1)\n",
        "print(\"Second coefficient of skewness (Fisher's skewness coefficient):\", skewness_2)\n"
      ],
      "metadata": {
        "colab": {
          "base_uri": "https://localhost:8080/"
        },
        "id": "PET7RgcAL1Fv",
        "outputId": "5804b9c7-0c99-40cd-d9e3-51aef3337d50"
      },
      "execution_count": 80,
      "outputs": [
        {
          "output_type": "stream",
          "name": "stdout",
          "text": [
            "First coefficient of skewness (Pearson's skewness coefficient): 0.13461538461538244\n",
            "Second coefficient of skewness (Fisher's skewness coefficient): 0.1448717948717943\n"
          ]
        }
      ]
    },
    {
      "cell_type": "code",
      "source": [
        "from google.colab import drive\n",
        "drive.mount('/content/drive')"
      ],
      "metadata": {
        "id": "IjR_FT8WaF4L"
      },
      "execution_count": null,
      "outputs": []
    },
    {
      "cell_type": "markdown",
      "source": [
        "**Write a python code to generate a sequence of random numbers with using the linear congruential method where, seed, X_0 = 27, multiplier, a = 17, increment, c = 43, and modulo, m = 100.  Take input number of sequence user want to generate.**"
      ],
      "metadata": {
        "id": "EbLFjkkSMFFg"
      }
    },
    {
      "cell_type": "code",
      "source": [
        "def linear_congruential_generator(seed, multiplier, increment, modulo, num_sequence):\n",
        "    sequence = []\n",
        "    X = seed\n",
        "    for _ in range(num_sequence):\n",
        "        X = (multiplier * X + increment) % modulo\n",
        "        sequence.append(X)\n",
        "    return sequence\n",
        "\n",
        "# User input for the number of random numbers to generate\n",
        "num_sequence = int(input(\"Enter the number of random numbers to generate: \"))\n",
        "\n",
        "# Parameters for the linear congruential method\n",
        "seed = 27\n",
        "multiplier = 17\n",
        "increment = 43\n",
        "modulo = 100\n",
        "\n",
        "# Generate the sequence of random numbers\n",
        "random_sequence = linear_congruential_generator(seed, multiplier, increment, modulo, num_sequence)\n",
        "\n",
        "print(\"Generated sequence of random numbers:\")\n",
        "print(random_sequence)"
      ],
      "metadata": {
        "colab": {
          "base_uri": "https://localhost:8080/"
        },
        "id": "4rgTJ2DEgm6v",
        "outputId": "a0d9fd69-75e6-4083-b49b-cb713fb13ae8"
      },
      "execution_count": 2,
      "outputs": [
        {
          "output_type": "stream",
          "name": "stdout",
          "text": [
            "Enter the number of random numbers to generate: 15\n",
            "Generated sequence of random numbers:\n",
            "[2, 77, 52, 27, 2, 77, 52, 27, 2, 77, 52, 27, 2, 77, 52]\n"
          ]
        }
      ]
    },
    {
      "cell_type": "code",
      "source": [],
      "metadata": {
        "id": "fpkU3TX6g2oh"
      },
      "execution_count": null,
      "outputs": []
    },
    {
      "cell_type": "markdown",
      "source": [],
      "metadata": {
        "id": "AVJPjQTKgsLj"
      }
    }
  ]
}