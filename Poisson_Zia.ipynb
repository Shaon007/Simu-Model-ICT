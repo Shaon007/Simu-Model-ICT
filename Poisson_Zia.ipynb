{
  "nbformat": 4,
  "nbformat_minor": 0,
  "metadata": {
    "colab": {
      "provenance": [],
      "mount_file_id": "1QEg8g_YBLnBbXggB8dkq5zqxSGDOX-Wj",
      "authorship_tag": "ABX9TyPWiZd65nRyvWA65/YoLX2m",
      "include_colab_link": true
    },
    "kernelspec": {
      "name": "python3",
      "display_name": "Python 3"
    },
    "language_info": {
      "name": "python"
    }
  },
  "cells": [
    {
      "cell_type": "markdown",
      "metadata": {
        "id": "view-in-github",
        "colab_type": "text"
      },
      "source": [
        "<a href=\"https://colab.research.google.com/github/rahmanziaur/Simu-Model-ICT/blob/main/Poisson_Zia.ipynb\" target=\"_parent\"><img src=\"https://colab.research.google.com/assets/colab-badge.svg\" alt=\"Open In Colab\"/></a>"
      ]
    },
    {
      "cell_type": "code",
      "execution_count": 1,
      "metadata": {
        "colab": {
          "base_uri": "https://localhost:8080/"
        },
        "id": "CpgG1-H3Ql7S",
        "outputId": "a8adca0a-c07e-4925-c57b-8d4ef39a848b"
      },
      "outputs": [
        {
          "output_type": "stream",
          "name": "stdout",
          "text": [
            "How many cases you want to try?5\n",
            "Case 1:\n",
            "Enter average value:5\n",
            "Enter expected value:7\n",
            "Case 1 :Probability is: 0.10444486295705399\n",
            "Case 2:\n",
            "Enter average value:7\n",
            "Enter expected value:8\n",
            "Case 2 :Probability is: 0.13037743221504566\n",
            "Case 3:\n",
            "Enter average value:8\n",
            "Enter expected value:4\n",
            "Case 3 :Probability is: 0.05725228849536202\n",
            "Case 4:\n",
            "Enter average value:6\n",
            "Enter expected value:3\n",
            "Case 4 :Probability is: 0.08923507835998891\n",
            "Case 5:\n",
            "Enter average value:6\n",
            "Enter expected value:2\n",
            "Case 5 :Probability is: 0.044617539179994455\n"
          ]
        }
      ],
      "source": [
        "import math\n",
        "\n",
        "def mypoisson(mu, k):\n",
        "    # Calculate e^-mu\n",
        "    e_minus_mu = math.exp(-mu)\n",
        "\n",
        "    # Calculate mu^k\n",
        "    mu_power_k = mu ** k\n",
        "\n",
        "    # Calculate k!\n",
        "    k_factorial = math.factorial(k)\n",
        "\n",
        "    # Calculate the result\n",
        "    result = e_minus_mu * (mu_power_k / k_factorial)\n",
        "\n",
        "    return result\n",
        "\n",
        "# Example usage\n",
        "\n",
        "num = int(input(\"How many cases you want to try?\"))\n",
        "\n",
        "for case in range(1,num+1):\n",
        "  print(\"Case \"+str(case)+\":\")\n",
        "  mu_value = int(input('Enter average value:'))\n",
        "  k_value = int(input('Enter expected value:'))\n",
        "  result = mypoisson(mu_value, k_value)\n",
        "  print(\"Case \"+str(case)+\" :\"+\"Probability is: \"+ str(result))\n"
      ]
    }
  ]
}