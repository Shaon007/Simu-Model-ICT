{
  "nbformat": 4,
  "nbformat_minor": 0,
  "metadata": {
    "colab": {
      "provenance": [],
      "mount_file_id": "1QEg8g_YBLnBbXggB8dkq5zqxSGDOX-Wj",
      "authorship_tag": "ABX9TyOyWu5ka6PRELUR6yAB0/cQ",
      "include_colab_link": true
    },
    "kernelspec": {
      "name": "python3",
      "display_name": "Python 3"
    },
    "language_info": {
      "name": "python"
    }
  },
  "cells": [
    {
      "cell_type": "markdown",
      "metadata": {
        "id": "view-in-github",
        "colab_type": "text"
      },
      "source": [
        "<a href=\"https://colab.research.google.com/github/rahmanziaur/Simu-Model-ICT/blob/main/Poisson_Zia.ipynb\" target=\"_parent\"><img src=\"https://colab.research.google.com/assets/colab-badge.svg\" alt=\"Open In Colab\"/></a>"
      ]
    },
    {
      "cell_type": "code",
      "execution_count": 5,
      "metadata": {
        "colab": {
          "base_uri": "https://localhost:8080/"
        },
        "id": "CpgG1-H3Ql7S",
        "outputId": "71ff3644-98db-4046-8277-b236450c841e"
      },
      "outputs": [
        {
          "output_type": "stream",
          "name": "stdout",
          "text": [
            "How many cases you want to try?1\n",
            "Case 1:\n",
            "Enter average value:0.61\n",
            "Enter expected value:2\n",
            "Case 1 :Probability is: 0.10109042919131069\n"
          ]
        }
      ],
      "source": [
        "import math\n",
        "\n",
        "def mypoisson(mu, k):\n",
        "    # Calculate e^-mu\n",
        "    e_minus_mu = math.exp(-mu)\n",
        "\n",
        "    # Calculate mu^k\n",
        "    mu_power_k = mu ** k\n",
        "\n",
        "    # Calculate k!\n",
        "    k_factorial = math.factorial(k)\n",
        "\n",
        "    # Calculate the result\n",
        "    result = e_minus_mu * (mu_power_k / k_factorial)\n",
        "\n",
        "    return result\n",
        "\n",
        "# Example usage\n",
        "\n",
        "num = int(input(\"How many cases you want to try?\"))\n",
        "\n",
        "for case in range(1,num+1):\n",
        "  print(\"Case \"+str(case)+\":\")\n",
        "  mu_value = float(input('Enter average value:'))\n",
        "  k_value = int(input('Enter expected value:'))\n",
        "  result = mypoisson(mu_value, k_value)\n",
        "  print(\"Case \"+str(case)+\" :\"+\"Probability is: \"+ str(result))\n"
      ]
    }
  ]
}