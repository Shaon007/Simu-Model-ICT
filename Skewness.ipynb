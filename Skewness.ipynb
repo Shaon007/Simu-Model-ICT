{
  "nbformat": 4,
  "nbformat_minor": 0,
  "metadata": {
    "colab": {
      "provenance": [],
      "authorship_tag": "ABX9TyPNidz7A8VyFf6i1fC3QEpO",
      "include_colab_link": true
    },
    "kernelspec": {
      "name": "python3",
      "display_name": "Python 3"
    },
    "language_info": {
      "name": "python"
    }
  },
  "cells": [
    {
      "cell_type": "markdown",
      "metadata": {
        "id": "view-in-github",
        "colab_type": "text"
      },
      "source": [
        "<a href=\"https://colab.research.google.com/github/rahmanziaur/Simu-Model-ICT/blob/main/Skewness.ipynb\" target=\"_parent\"><img src=\"https://colab.research.google.com/assets/colab-badge.svg\" alt=\"Open In Colab\"/></a>"
      ]
    },
    {
      "cell_type": "code",
      "execution_count": 2,
      "metadata": {
        "colab": {
          "base_uri": "https://localhost:8080/"
        },
        "id": "y4jpk-wquF9L",
        "outputId": "0c5a2afb-1672-4371-cbd6-8db6daa8a8c7"
      },
      "outputs": [
        {
          "output_type": "stream",
          "name": "stdout",
          "text": [
            "First coefficient of skewness: 0.1448717948717943\n",
            "Second coefficient of skewness: 0.13461538461538244\n"
          ]
        }
      ],
      "source": [
        "def calculate_skewness(mean, median, mode, std_dev):\n",
        "    return (mean - mode) / std_dev, 3 * (mean - median) / std_dev\n",
        "\n",
        "mean, median, mode, std_dev = 279.76, 279.06, 277.5, 15.6\n",
        "\n",
        "print(\"First coefficient of skewness:\", calculate_skewness(mean, median, mode, std_dev)[0])\n",
        "print(\"Second coefficient of skewness:\", calculate_skewness(mean, median, mode, std_dev)[1])\n"
      ]
    },
    {
      "cell_type": "code",
      "source": [
        "def calculate_skewness(mean, median, mode, std_dev):\n",
        "    skewness_1 = (mean - mode) / std_dev\n",
        "    skewness_2 = 3 * (mean - median) / std_dev\n",
        "    return skewness_1, skewness_2\n",
        "\n",
        "# Given values\n",
        "mean = 279.76\n",
        "median = 279.06\n",
        "mode = 277.5\n",
        "std_dev = 15.6\n",
        "\n",
        "# Calculate skewness coefficients\n",
        "skewness_1, skewness_2 = calculate_skewness(mean, median, mode, std_dev)\n",
        "\n",
        "print(\"First coefficient of skewness:\", skewness_1)\n",
        "print(\"Second coefficient of skewness:\", skewness_2)\n"
      ],
      "metadata": {
        "colab": {
          "base_uri": "https://localhost:8080/"
        },
        "id": "YOConLXtuoUj",
        "outputId": "c199543c-53ff-4ef9-d745-3d1f45cae522"
      },
      "execution_count": 1,
      "outputs": [
        {
          "output_type": "stream",
          "name": "stdout",
          "text": [
            "First coefficient of skewness: 0.1448717948717943\n",
            "Second coefficient of skewness: 0.13461538461538244\n"
          ]
        }
      ]
    }
  ]
}